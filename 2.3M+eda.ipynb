{
 "cells": [
  {
   "cell_type": "markdown",
   "metadata": {},
   "source": [
    "<!DOCTYPE html>\n",
    "<html>\n",
    "<head>\n",
    "    <style>\n",
    "        .chapter-heading {\n",
    "            background: linear-gradient(45deg, #333 25%, transparent 25%, transparent 75%, #333 75%, #333);\n",
    "            color: white;\n",
    "            padding: 10px;\n",
    "            border-radius: 5px;\n",
    "            box-shadow: 0 2px 4px rgba(0, 0, 0, 0.2);\n",
    "            text-align: center;\n",
    "            font-size: 18px;\n",
    "            font-weight: bold;\n",
    "            margin-bottom: 10px;\n",
    "        }\n",
    "    </style>\n",
    "</head>\n",
    "<body>\n",
    "    <div class=\"chapter-heading\">\n",
    "        <h1>Google Playstore EDA</h1>\n",
    "    </div>\n",
    "</body>\n",
    "</html>"
   ]
  },
  {
   "cell_type": "markdown",
   "metadata": {},
   "source": [
    "![image](pic.jpeg)"
   ]
  },
  {
   "cell_type": "markdown",
   "metadata": {},
   "source": [
    "<!DOCTYPE html>\n",
    "<html>\n",
    "<head>\n",
    "    <style>\n",
    "        .chapter-heading {\n",
    "            background: linear-gradient(45deg, #333 25%, transparent 25%, transparent 75%, #333 75%, #333);\n",
    "            color: white;\n",
    "            padding: 10px;\n",
    "            border-radius: 5px;\n",
    "            box-shadow: 0 2px 4px rgba(0, 0, 0, 0.2);\n",
    "            text-align: center;\n",
    "            font-size: 18px;\n",
    "            font-weight: bold;\n",
    "            margin-bottom: 10px;\n",
    "        }\n",
    "    </style>\n",
    "</head>\n",
    "<body>\n",
    "    <div class=\"chapter-heading\">\n",
    "        <h1>1.0 About Author</h1>\n",
    "    </div>\n",
    "</body>\n",
    "</html>"
   ]
  },
  {
   "cell_type": "markdown",
   "metadata": {},
   "source": [
    "- Project: Google Play Store Apps\n",
    "- Author: Muhammad Waqas\n",
    "- Code Submision Date: 17-02-2024\n",
    "- Author's Contact Info: \n",
    "    - **Email:** waqasliaqat630@gmailcom\n",
    "    - [Linkedin](https://www.linkedin.com/in/muhammad-waqas-liaqat/)\n",
    "    - [Github](https://github.com/waqas-liaqat)\n",
    "    - [kaggle](https://www.kaggle.com/muhammadwaqas630)"
   ]
  },
  {
   "cell_type": "markdown",
   "metadata": {},
   "source": [
    "<!DOCTYPE html>\n",
    "<html>\n",
    "<head>\n",
    "    <style>\n",
    "        .chapter-heading {\n",
    "            background: linear-gradient(45deg, #333 25%, transparent 25%, transparent 75%, #333 75%, #333);\n",
    "            color: white;\n",
    "            padding: 10px;\n",
    "            border-radius: 5px;\n",
    "            box-shadow: 0 2px 4px rgba(0, 0, 0, 0.2);\n",
    "            text-align: center;\n",
    "            font-size: 18px;\n",
    "            font-weight: bold;\n",
    "            margin-bottom: 10px;\n",
    "        }\n",
    "    </style>\n",
    "</head>\n",
    "<body>\n",
    "    <div class=\"chapter-heading\">\n",
    "        <h1>2.0 About Data</h1>\n",
    "    </div>\n",
    "</body>\n",
    "</html>"
   ]
  },
  {
   "cell_type": "markdown",
   "metadata": {},
   "source": [
    "### 2.1 MetaData"
   ]
  },
  {
   "cell_type": "markdown",
   "metadata": {},
   "source": [
    "- Data: Google Play Store Apps\n",
    "- Data Age: The data was collected in the month of june 2021.\n",
    "- Dataset: [link](https://www.kaggle.com/datasets/gauthamp10/google-playstore-apps)"
   ]
  },
  {
   "cell_type": "markdown",
   "metadata": {},
   "source": [
    "#### Columns Information"
   ]
  },
  {
   "cell_type": "markdown",
   "metadata": {},
   "source": [
    "| **Column Name** | **Description** |\n",
    "| :---: | :---: |\n",
    "| App Name | Name of the app |\n",
    "| App Id | Package name |\n",
    "| Category | App category |\n",
    "| Rating | Average rating |\n",
    "| Rating Count | Number of rating |\n",
    "| Installs | Approximate install count |\n",
    "| Minimum Installs | Approximate minimum app install count |\n",
    "| Maximum Installs | Approximate maximum app install count |\n",
    "| Free | Whether app is Free or Paid |\n",
    "| Price | App price |\n",
    "| Currency | App currency |\n",
    "| Size | Size of application package |\n",
    "| Minimum Android | Minimum android version supported |\n",
    "| Developer Id | Developer Id in Google Playstore |\n",
    "| Developer Website | Website of the developer |\n",
    "| Developer Email | Email-id of developer |\n",
    "| Released | App launch date on Google Playstore |\n",
    "| Last Updated | Last app update date |\n",
    "| Content Rating | Maturity level of app |\n",
    "| Privacy Policy | Privacy policy from developer |\n",
    "| Ad Supported | Ad support in app |\n",
    "| In App Purchases | In-App purchases in app |\n",
    "| Editors Choice | Whether rated as Editor Choice |\n",
    "| Scraped Time | Scraped date-time in GMT |"
   ]
  },
  {
   "cell_type": "markdown",
   "metadata": {},
   "source": [
    "### 2.2 Task"
   ]
  },
  {
   "cell_type": "markdown",
   "metadata": {},
   "source": [
    "We intend to conduct an Exploratory Data Analysis (EDA) on the given dataset. The EDA will serve as the basis for the necessary Data Wrangling activities to be carried out for the purposes of data cleaning and normalization. During the coding process, we will document our observations. Ultimately, we will produce a summary and draw conclusions from our findings."
   ]
  },
  {
   "cell_type": "markdown",
   "metadata": {},
   "source": [
    "### 2.3 Objective"
   ]
  },
  {
   "cell_type": "markdown",
   "metadata": {},
   "source": [
    "- The primary aim of this project is to conduct a thorough analysis of the dataset to identify significant insights. \n",
    "- The ultimate goal is to project and emphasize customer dynamics and demands to developers and other relevant stakeholders.\n",
    "- This will assist in driving more business towards their upcoming applications."
   ]
  },
  {
   "cell_type": "markdown",
   "metadata": {},
   "source": [
    "### 2.4 Kernel Version Used:"
   ]
  },
  {
   "cell_type": "markdown",
   "metadata": {},
   "source": [
    "- Python 3.12.0"
   ]
  },
  {
   "cell_type": "markdown",
   "metadata": {},
   "source": [
    "<!DOCTYPE html>\n",
    "<html>\n",
    "<head>\n",
    "    <style>\n",
    "        .chapter-heading {\n",
    "            background: linear-gradient(45deg, #333 25%, transparent 25%, transparent 75%, #333 75%, #333);\n",
    "            color: white;\n",
    "            padding: 10px;\n",
    "            border-radius: 5px;\n",
    "            box-shadow: 0 2px 4px rgba(0, 0, 0, 0.2);\n",
    "            text-align: center;\n",
    "            font-size: 18px;\n",
    "            font-weight: bold;\n",
    "            margin-bottom: 10px;\n",
    "        }\n",
    "    </style>\n",
    "</head>\n",
    "<body>\n",
    "    <div class=\"chapter-heading\">\n",
    "        <h1>3.0 import libraries</h1>\n",
    "    </div>\n",
    "</body>\n",
    "</html>"
   ]
  },
  {
   "cell_type": "markdown",
   "metadata": {},
   "source": [
    "- We will use following libraries:\n",
    "    1. Pandas: For manipulation and analysis of data.\n",
    "    2. Numpy: For array manipulation & math functions for summarizing, transforming, visualizing data (stats, distributions, correlations).\n",
    "    3. Seaborn: For beautiful, informative statistical plots\n",
    "    4. Matplotlib: For informative & customizable visualizations"
   ]
  },
  {
   "cell_type": "code",
   "execution_count": null,
   "metadata": {},
   "outputs": [],
   "source": [
    "import pandas as pd\n",
    "import numpy as np\n",
    "# visualization libraries\n",
    "import matplotlib.pyplot as plt\n",
    "import seaborn as sns\n",
    "# Enable inline plotting for convenience within the Jupyter notebook\n",
    "%matplotlib inline\n",
    "# use case of warnings.filterwarnings('ignore') is to suppress warnings in order to prevent them from being displayed during the execution of your code.\n",
    "import warnings\n",
    "warnings.filterwarnings('ignore')"
   ]
  },
  {
   "cell_type": "markdown",
   "metadata": {},
   "source": [
    "<!DOCTYPE html>\n",
    "<html>\n",
    "<head>\n",
    "    <style>\n",
    "        .chapter-heading {\n",
    "            background: linear-gradient(45deg, #333 25%, transparent 25%, transparent 75%, #333 75%, #333);\n",
    "            color: white;\n",
    "            padding: 10px;\n",
    "            border-radius: 5px;\n",
    "            box-shadow: 0 2px 4px rgba(0, 0, 0, 0.2);\n",
    "            text-align: center;\n",
    "            font-size: 18px;\n",
    "            font-weight: bold;\n",
    "            margin-bottom: 10px;\n",
    "        }\n",
    "    </style>\n",
    "</head>\n",
    "<body>\n",
    "    <div class=\"chapter-heading\">\n",
    "        <h1>4.0 Data Loading, Exploration and Wrangling</h1>\n",
    "    </div>\n",
    "</body>\n",
    "</html>"
   ]
  },
  {
   "cell_type": "markdown",
   "metadata": {},
   "source": [
    "we will proceed as follows:"
   ]
  },
  {
   "cell_type": "markdown",
   "metadata": {},
   "source": [
    "### 4.1 Load Dataset"
   ]
  },
  {
   "cell_type": "code",
   "execution_count": null,
   "metadata": {},
   "outputs": [],
   "source": [
    "df=pd.read_csv(\"data.csv\")"
   ]
  },
  {
   "cell_type": "markdown",
   "metadata": {},
   "source": [
    "### 4.2 Increase Readability of Wide DataFrames"
   ]
  },
  {
   "cell_type": "markdown",
   "metadata": {},
   "source": [
    "When working with large datasets, DataFrames can easily contain more columns and rows than can comfortably fit on your screen. This can make it difficult to read and understand the data. So we will use the following code snippet, so that no valuable information can be overlooked. "
   ]
  },
  {
   "cell_type": "code",
   "execution_count": null,
   "metadata": {},
   "outputs": [],
   "source": [
    "pd.set_option('display.max_columns',None)\n",
    "pd.set_option('display.max_rows',None)"
   ]
  },
  {
   "cell_type": "markdown",
   "metadata": {},
   "source": [
    "### 4.3 Get sneak Pek of data"
   ]
  },
  {
   "cell_type": "markdown",
   "metadata": {},
   "source": [
    "- With this piece of code we can get some sense of data, by viewing top rows.\n",
    "- Also it saves our time of getting into large file of data to get sense of data."
   ]
  },
  {
   "cell_type": "code",
   "execution_count": null,
   "metadata": {},
   "outputs": [],
   "source": [
    "df.head()"
   ]
  },
  {
   "cell_type": "markdown",
   "metadata": {},
   "source": [
    "### 4.4 View column names"
   ]
  },
  {
   "cell_type": "code",
   "execution_count": null,
   "metadata": {},
   "outputs": [],
   "source": [
    "df.columns"
   ]
  },
  {
   "cell_type": "markdown",
   "metadata": {},
   "source": [
    "### 4.5 View Shape of dataset"
   ]
  },
  {
   "cell_type": "code",
   "execution_count": null,
   "metadata": {},
   "outputs": [],
   "source": [
    "print(f\"The dataframe has {df.shape[0]} rows and {df.shape[1]} columns\")"
   ]
  },
  {
   "cell_type": "markdown",
   "metadata": {},
   "source": [
    "### 4.6 Data information"
   ]
  },
  {
   "cell_type": "code",
   "execution_count": null,
   "metadata": {},
   "outputs": [],
   "source": [
    "df.info()"
   ]
  },
  {
   "cell_type": "markdown",
   "metadata": {},
   "source": [
    "**Observation set 1:**\n",
    "1. We have 4 bool, 4 float, 1 int and 15 object columns in our dataset.\n",
    "2. 'Released' and 'Last Updated' should be converted to datetime.\n",
    "3. We should convert \"Size\" column to numerical with name size_in_mb.\n",
    "4. \"Scrapped Time\" is totally irrelevent feature in our apps dataset, it should be removed."
   ]
  },
  {
   "cell_type": "markdown",
   "metadata": {},
   "source": [
    "### 4.7 Missing Values"
   ]
  },
  {
   "cell_type": "markdown",
   "metadata": {},
   "source": [
    "#### 4.7.1 Finding Missing Values"
   ]
  },
  {
   "cell_type": "code",
   "execution_count": null,
   "metadata": {},
   "outputs": [],
   "source": [
    "df.isnull().sum().sort_values(ascending=False)"
   ]
  },
  {
   "cell_type": "code",
   "execution_count": null,
   "metadata": {},
   "outputs": [],
   "source": [
    "((df.isnull().sum()/len(df))*100).sort_values(ascending=False)"
   ]
  },
  {
   "cell_type": "code",
   "execution_count": null,
   "metadata": {},
   "outputs": [],
   "source": [
    "sns.heatmap(df.isnull())"
   ]
  },
  {
   "cell_type": "markdown",
   "metadata": {},
   "source": [
    "#### 4.7.2 Handling Missing Values"
   ]
  },
  {
   "cell_type": "code",
   "execution_count": null,
   "metadata": {},
   "outputs": [],
   "source": [
    "# quick overview of data\n",
    "df.head()"
   ]
  },
  {
   "cell_type": "markdown",
   "metadata": {},
   "source": [
    "- As Developer Website, Privacy Policy, Developer Id and Developer Email are null, most probably because developer may not have these. We can fill them with \"not present\"."
   ]
  },
  {
   "cell_type": "code",
   "execution_count": null,
   "metadata": {},
   "outputs": [],
   "source": [
    "# filing null with \"not present\"\n",
    "df[\"Developer Website\"]=df[\"Developer Website\"].fillna(value=\"not present\")\n",
    "df[\"Privacy Policy\"]=df[\"Privacy Policy\"].fillna(value=\"not present\")\n",
    "df[\"Developer Id\"]=df[\"Developer Id\"].fillna(value=\"not present\")\n",
    "df[\"Developer Email\"]=df[\"Developer Email\"].fillna(value=\"not present\")\n",
    "# have a view of these refreshed rows after filling missing.\n",
    "df[[\"Developer Website\", \"Privacy Policy\", \"Developer Id\", \"Developer Email\"]].isnull().sum()"
   ]
  },
  {
   "cell_type": "markdown",
   "metadata": {},
   "source": [
    "**App Names & Minimum Androids**"
   ]
  },
  {
   "cell_type": "markdown",
   "metadata": {},
   "source": [
    "- As there are just some missing app names and minimum android, Hence we can drop that null rows"
   ]
  },
  {
   "cell_type": "code",
   "execution_count": null,
   "metadata": {},
   "outputs": [],
   "source": [
    "#Dropping null rows\n",
    "df=df.dropna(subset=[\"App Name\"])\n",
    "df=df.dropna(subset=[\"Minimum Android\"])\n",
    "# let's check\n",
    "df[[\"App Name\",\"Minimum Android\"]].isnull().sum()"
   ]
  },
  {
   "cell_type": "markdown",
   "metadata": {},
   "source": [
    "**Size**"
   ]
  },
  {
   "cell_type": "code",
   "execution_count": null,
   "metadata": {},
   "outputs": [],
   "source": [
    "df[df[\"Size\"].isnull()].head()"
   ]
  },
  {
   "cell_type": "code",
   "execution_count": null,
   "metadata": {},
   "outputs": [],
   "source": [
    "print(f\"Total missing values in size are: {len(df[df[\"Size\"].isnull()])}\")\n",
    "print(f\"Total number of values having missing values and varies with devices both, is: {len(df[(df[\"Size\"].isnull()) & (df[\"Minimum Android\"]==\"Varies with device\")])}\")"
   ]
  },
  {
   "cell_type": "code",
   "execution_count": null,
   "metadata": {},
   "outputs": [],
   "source": [
    "df[df[\"Minimum Android\"]==\"Varies with device\"].head()"
   ]
  },
  {
   "cell_type": "markdown",
   "metadata": {},
   "source": [
    "- As we can see that **Size** have relation with **minimum android** and on all the null **size** points **minimum android** have \"Varies with devices\".\n",
    "- In second snippet of code we can see that in case of \"varies with device\" in **minimum android**, \"varies with devices\" is also present in **size** .\n",
    "- We can fill nulls of **Size** with \"Varies with device\"."
   ]
  },
  {
   "cell_type": "code",
   "execution_count": null,
   "metadata": {},
   "outputs": [],
   "source": [
    "df[\"Size\"]=df[\"Size\"].fillna(value=\"Varies with device\")"
   ]
  },
  {
   "cell_type": "markdown",
   "metadata": {},
   "source": [
    "**Currency**"
   ]
  },
  {
   "cell_type": "code",
   "execution_count": null,
   "metadata": {},
   "outputs": [],
   "source": [
    "df[\"Currency\"].unique()"
   ]
  },
  {
   "cell_type": "code",
   "execution_count": null,
   "metadata": {},
   "outputs": [],
   "source": [
    "print(f\"Total missing values in Currency are: {len(df[df[\"Currency\"].isnull()])}\")\n",
    "print(f\"Total number of datapoints having missing values and price 0.0 both, is: {len(df[(df[\"Currency\"].isnull()) & (df[\"Price\"]==0.0)])}\")"
   ]
  },
  {
   "cell_type": "markdown",
   "metadata": {},
   "source": [
    "- We can see that all the nulls in currency have 0 price, hence we can impute currency with XXX."
   ]
  },
  {
   "cell_type": "code",
   "execution_count": null,
   "metadata": {},
   "outputs": [],
   "source": [
    "df[\"Currency\"]=df[\"Currency\"].fillna(value=\"XXX\")\n",
    "# now let's check:\n",
    "df[\"Currency\"].isnull().sum()"
   ]
  },
  {
   "cell_type": "markdown",
   "metadata": {},
   "source": [
    "**Installs, Minimum Installs,rating and rating count**"
   ]
  },
  {
   "cell_type": "markdown",
   "metadata": {},
   "source": [
    "- As missing percentage is very small in them and each two rows have missing on similar rows, hence we can drop these null values by dropping from every second."
   ]
  },
  {
   "cell_type": "code",
   "execution_count": null,
   "metadata": {},
   "outputs": [],
   "source": [
    "df=df.dropna(subset=[\"Installs\"])\n",
    "df=df.dropna(subset=[\"Rating\"])\n",
    "# let's check \n",
    "df[[\"Installs\",\"Rating\"]].isnull().sum()"
   ]
  },
  {
   "cell_type": "markdown",
   "metadata": {},
   "source": [
    "**Released**"
   ]
  },
  {
   "cell_type": "markdown",
   "metadata": {},
   "source": [
    "- We can predict released from last updated date, but it can manipulate some data because famous apps are updated a lot.\n",
    "- Hence we decided to drop the null values."
   ]
  },
  {
   "cell_type": "code",
   "execution_count": null,
   "metadata": {},
   "outputs": [],
   "source": [
    "df=df.dropna(subset=[\"Released\"])\n",
    "# let's check \n",
    "df[\"Released\"].isnull().sum()"
   ]
  },
  {
   "cell_type": "code",
   "execution_count": null,
   "metadata": {},
   "outputs": [],
   "source": [
    "df.isnull().sum().sort_values(ascending=False)"
   ]
  },
  {
   "cell_type": "markdown",
   "metadata": {},
   "source": [
    "**Milestone 1:** We have cleaned the dataset from null values."
   ]
  },
  {
   "cell_type": "markdown",
   "metadata": {},
   "source": [
    "### 4.8 Duplicates"
   ]
  },
  {
   "cell_type": "code",
   "execution_count": null,
   "metadata": {},
   "outputs": [],
   "source": [
    "df.duplicated().any()"
   ]
  },
  {
   "cell_type": "code",
   "execution_count": null,
   "metadata": {},
   "outputs": [],
   "source": [
    "df[\"App Name\"].duplicated().any()"
   ]
  },
  {
   "cell_type": "code",
   "execution_count": null,
   "metadata": {},
   "outputs": [],
   "source": [
    "df[\"App Name\"].value_counts().sort_values(ascending=False)"
   ]
  },
  {
   "cell_type": "code",
   "execution_count": null,
   "metadata": {},
   "outputs": [],
   "source": [
    "df[df[\"App Name\"]==\"Tic Tac Toe\"].head()"
   ]
  },
  {
   "cell_type": "markdown",
   "metadata": {},
   "source": [
    "**Milestone 2:** Hence no duplicates found\n",
    "- Although App_name may have duplications, the records are unique as a whole."
   ]
  },
  {
   "cell_type": "markdown",
   "metadata": {},
   "source": [
    "### 4.9 Features Engineering"
   ]
  },
  {
   "cell_type": "markdown",
   "metadata": {},
   "source": [
    "**Size**"
   ]
  },
  {
   "cell_type": "markdown",
   "metadata": {},
   "source": [
    "- Converting \"Size\" into numeric format."
   ]
  },
  {
   "cell_type": "code",
   "execution_count": null,
   "metadata": {},
   "outputs": [],
   "source": [
    "# unique values in size\n",
    "df[\"Size\"].unique()"
   ]
  },
  {
   "cell_type": "code",
   "execution_count": null,
   "metadata": {},
   "outputs": [],
   "source": [
    "# number of apps with size in KB.\n",
    "having_k=df[\"Size\"].str.contains(\"k\").sum() \n",
    "# number of apps with size in MB\n",
    "having_M=df[\"Size\"].str.contains(\"M\").sum()\n",
    "# number of apps with size varying wih device\n",
    "having_varies=df[\"Size\"].str.contains(\"Varies with device\").sum()\n",
    "print(having_k+having_M+having_varies)\n",
    "print(len(df[\"Size\"]))"
   ]
  },
  {
   "cell_type": "markdown",
   "metadata": {},
   "source": [
    "- It means \"Size\" not only contains just 3 types of sizes but also contains another one, we need to find that out."
   ]
  },
  {
   "cell_type": "code",
   "execution_count": null,
   "metadata": {},
   "outputs": [],
   "source": [
    "# find apps not consisting of KB, MB or varies with device\n",
    "df[(~df[\"Size\"].str.contains(\"k\"))& (~df[\"Size\"].str.contains(\"M\"))& (~df[\"Size\"].str.contains(\"Varies with device\"))].head(3)"
   ]
  },
  {
   "cell_type": "markdown",
   "metadata": {},
   "source": [
    "- That fourth type of size is \"G\"(GB)."
   ]
  },
  {
   "cell_type": "code",
   "execution_count": null,
   "metadata": {},
   "outputs": [],
   "source": [
    "having_g=df[\"Size\"].str.contains(\"G\").sum()\n",
    "print(having_k+having_M+having_varies+having_g)\n",
    "print(len(df[\"Size\"]))"
   ]
  },
  {
   "cell_type": "markdown",
   "metadata": {},
   "source": [
    "- Now we will convert \"Size\" to numeric having size in MB."
   ]
  },
  {
   "cell_type": "code",
   "execution_count": null,
   "metadata": {},
   "outputs": [],
   "source": [
    "# Apps with size less than one GB but greater than 1000 Mbs needed to be removed with commas\n",
    "df[\"Size\"]=df[\"Size\"].str.replace(\",\",\"\")"
   ]
  },
  {
   "cell_type": "code",
   "execution_count": null,
   "metadata": {},
   "outputs": [],
   "source": [
    "# creating a new column with name size in mb\n",
    "\n",
    "#let's define a function\n",
    "def convert_size(Size):\n",
    "    if isinstance(Size, str):\n",
    "        if 'k' in Size:\n",
    "            return float(Size.replace('k',''))/1024\n",
    "        elif 'M' in Size:\n",
    "            return float(Size.replace('M',''))\n",
    "        elif 'G' in Size:\n",
    "            return float(Size.replace('G',''))*1024\n",
    "        elif 'Varies with device' in Size:\n",
    "            return np.nan\n",
    "    return Size\n",
    "df['size_in_MB']=df['Size'].apply(convert_size)"
   ]
  },
  {
   "cell_type": "markdown",
   "metadata": {},
   "source": [
    "- Here we can see that all the size values are in MB now.\n",
    "- None values represent app with unknown size, \"varies with device\" was also showing uknown size."
   ]
  },
  {
   "cell_type": "markdown",
   "metadata": {},
   "source": [
    "**Released and Last Updated**"
   ]
  },
  {
   "cell_type": "markdown",
   "metadata": {},
   "source": [
    "Converting \"Released\" and \"Last Updated\" into datetime"
   ]
  },
  {
   "cell_type": "code",
   "execution_count": null,
   "metadata": {},
   "outputs": [],
   "source": [
    "df[[\"Released\",\"Last Updated\"]].head()"
   ]
  },
  {
   "cell_type": "code",
   "execution_count": null,
   "metadata": {},
   "outputs": [],
   "source": [
    "# converting Both columns to datetime\n",
    "df[\"Released\"]=pd.to_datetime(df[\"Released\"])\n",
    "df[\"Last Updated\"]=pd.to_datetime(df[\"Last Updated\"])"
   ]
  },
  {
   "cell_type": "markdown",
   "metadata": {},
   "source": [
    "**Scrapped Time**"
   ]
  },
  {
   "cell_type": "markdown",
   "metadata": {},
   "source": [
    "- removing \"Scraped Time\""
   ]
  },
  {
   "cell_type": "code",
   "execution_count": null,
   "metadata": {},
   "outputs": [],
   "source": [
    "df.drop(columns=[\"Scraped Time\"],axis=1,inplace=True)"
   ]
  },
  {
   "cell_type": "code",
   "execution_count": null,
   "metadata": {},
   "outputs": [],
   "source": [
    "# Let's check the dataframe again\n",
    "df.info()"
   ]
  },
  {
   "cell_type": "markdown",
   "metadata": {},
   "source": [
    "**Milestone 3:** Relavent data type assigned to all features."
   ]
  },
  {
   "cell_type": "markdown",
   "metadata": {},
   "source": [
    "<!DOCTYPE html>\n",
    "<html>\n",
    "<head>\n",
    "    <style>\n",
    "        .chapter-heading {\n",
    "            background: linear-gradient(45deg, #333 25%, transparent 25%, transparent 75%, #333 75%, #333);\n",
    "            color: white;\n",
    "            padding: 10px;\n",
    "            border-radius: 5px;\n",
    "            box-shadow: 0 2px 4px rgba(0, 0, 0, 0.2);\n",
    "            text-align: center;\n",
    "            font-size: 18px;\n",
    "            font-weight: bold;\n",
    "            margin-bottom: 10px;\n",
    "        }\n",
    "    </style>\n",
    "</head>\n",
    "<body>\n",
    "    <div class=\"chapter-heading\">\n",
    "        <h1>5.0 Exploring all features</h1>\n",
    "    </div>\n",
    "</body>\n",
    "</html>"
   ]
  },
  {
   "cell_type": "markdown",
   "metadata": {},
   "source": [
    "### 5.1 Descriptive summary"
   ]
  },
  {
   "cell_type": "code",
   "execution_count": null,
   "metadata": {},
   "outputs": [],
   "source": [
    "df.describe().T"
   ]
  },
  {
   "cell_type": "markdown",
   "metadata": {},
   "source": [
    "**Observation set 2:**\n",
    "- Minimum size of app is 3KB and maximum size is 1536MB. \n",
    "- AVERAGE size is 10MB.\n",
    "- More than 75% apps are free.\n",
    "- According to this dataset first app was released on 2010-01-28 and latest app(till this dataset collected) was released on 2021-06-16.\n",
    "- Oldest updated app date is 2009-02-09 however the first app was released on 2010-01-28, it is impossible for an app being updated before it's release, It is anomaly and we will try to find more anomalies like this."
   ]
  },
  {
   "cell_type": "code",
   "execution_count": null,
   "metadata": {},
   "outputs": [],
   "source": [
    "df.describe(include=\"all\")"
   ]
  },
  {
   "cell_type": "markdown",
   "metadata": {},
   "source": [
    "**Observation set 3:**\n",
    "- Out of 2235326 apps, 2104582 app names are unique. \"Tic Tac Toe\", is the most copied names.\n",
    "- There are 48 categories of apps and education category have most number of apps.\n",
    "- most of the apps have downloads in hundreds.\n",
    "- There are 13 type of currencies, and \"USD\" is the most common.\n",
    "- \"4.1 and up\" is the most common android version.\n",
    "- most of the developers don't have their own website.\n",
    "- Most of the apps are ad supported.\n",
    "- Most of the apps don't allow in app purchase."
   ]
  },
  {
   "cell_type": "markdown",
   "metadata": {},
   "source": [
    "### 5.2 Released and last_Updated dates Anomalies"
   ]
  },
  {
   "cell_type": "code",
   "execution_count": null,
   "metadata": {},
   "outputs": [],
   "source": [
    "(len(df[df[\"Released\"]>df[\"Last Updated\"]])/len(df))*100"
   ]
  },
  {
   "cell_type": "markdown",
   "metadata": {},
   "source": [
    "- As their percentage is very small, so I deided to keep only those entries where released date is less than last updated date."
   ]
  },
  {
   "cell_type": "code",
   "execution_count": null,
   "metadata": {},
   "outputs": [],
   "source": [
    "df=df[df[\"Released\"]<df[\"Last Updated\"]]"
   ]
  },
  {
   "cell_type": "markdown",
   "metadata": {},
   "source": [
    "**App age column**"
   ]
  },
  {
   "cell_type": "code",
   "execution_count": null,
   "metadata": {},
   "outputs": [],
   "source": [
    "today=pd.to_datetime(\"2021-06-16\")\n",
    "df[\"age_in_month\"]=(today-df[\"Released\"]).dt.days // 30\n",
    "df.head()"
   ]
  },
  {
   "cell_type": "markdown",
   "metadata": {},
   "source": [
    "<!DOCTYPE html>\n",
    "<html>\n",
    "<head>\n",
    "    <style>\n",
    "        .chapter-heading {\n",
    "            background: linear-gradient(45deg, #333 25%, transparent 25%, transparent 75%, #333 75%, #333);\n",
    "            color: white;\n",
    "            padding: 10px;\n",
    "            border-radius: 5px;\n",
    "            box-shadow: 0 2px 4px rgba(0, 0, 0, 0.2);\n",
    "            text-align: center;\n",
    "            font-size: 18px;\n",
    "            font-weight: bold;\n",
    "            margin-bottom: 10px;\n",
    "        }\n",
    "    </style>\n",
    "</head>\n",
    "<body>\n",
    "    <div class=\"chapter-heading\">\n",
    "        <h1>6.0 Question and Aswers :</h1>\n",
    "    </div>\n",
    "</body>\n",
    "</html>"
   ]
  },
  {
   "cell_type": "markdown",
   "metadata": {},
   "source": [
    "We are going to pose following questions against the dataset:\n",
    "- **Q1.** Is there any correlations between rating and dowloads?\n",
    "- **Q2:** Is there any relationship between downloads and app type(free/paid)?\n",
    "- **Q3.** Which TOP 5 app categories have the most number of apps?\n",
    "- **Q4.** Which TOP 5 app categories have the most downloads?\n",
    "- **Q5.** How does the price of an app (free vs. paid) affect its rating?\n",
    "- **Q6.** How does app size relate to installs?\n",
    "- **Q7.** Are Size and Rating dependent on each other? \n",
    "- **Q8.** Does the content rating of an app (e.g., Everyone, Teen, Mature) influence its install base?\n",
    "- **Q9.** Which Year has the most number of apps released?\n",
    "- **Q10.** Apps released in Which Year could get the most number of app downloads?\n",
    "- **Q11:** Does app age influences it's downoads?\n",
    "- **Q12.** Show interdependency of all numerical features."
   ]
  },
  {
   "cell_type": "code",
   "execution_count": null,
   "metadata": {},
   "outputs": [],
   "source": [
    "df.head()"
   ]
  },
  {
   "cell_type": "markdown",
   "metadata": {},
   "source": [
    " **Q1.** Is there any correlations between rating and dowloads?"
   ]
  },
  {
   "cell_type": "code",
   "execution_count": null,
   "metadata": {},
   "outputs": [],
   "source": [
    "sns.scatterplot(data=df,x=\"Maximum Installs\",y=\"Rating\",c=\"blue\")"
   ]
  },
  {
   "cell_type": "code",
   "execution_count": null,
   "metadata": {},
   "outputs": [],
   "source": [
    "sns.heatmap(df[[\"Maximum Installs\",\"Rating\"]].corr(),annot=True)"
   ]
  },
  {
   "cell_type": "markdown",
   "metadata": {},
   "source": [
    "**Ans 1:** Not seen any relationship in apps with less downloads, but it is seen that apps with more downloads have quit decent rating."
   ]
  },
  {
   "cell_type": "markdown",
   "metadata": {},
   "source": [
    "**Q2:** Is there any relationship between downloads and app type(free/paid)?"
   ]
  },
  {
   "cell_type": "code",
   "execution_count": null,
   "metadata": {},
   "outputs": [],
   "source": [
    "df.groupby(\"Free\")[\"Maximum Installs\"].mean()"
   ]
  },
  {
   "cell_type": "code",
   "execution_count": null,
   "metadata": {},
   "outputs": [],
   "source": [
    "df.groupby(\"Free\")[\"Maximum Installs\"].mean().plot(kind=\"bar\",color=\"blue\")"
   ]
  },
  {
   "cell_type": "markdown",
   "metadata": {},
   "source": [
    "**Ans 2:** Free apps generally have more downloads than that of paid ones"
   ]
  },
  {
   "cell_type": "markdown",
   "metadata": {},
   "source": [
    "**Q3.** Which TOP 5 app categories have the most number of apps?"
   ]
  },
  {
   "cell_type": "code",
   "execution_count": null,
   "metadata": {},
   "outputs": [],
   "source": [
    "df[\"Category\"].unique()"
   ]
  },
  {
   "cell_type": "code",
   "execution_count": null,
   "metadata": {},
   "outputs": [],
   "source": [
    "top_numbers=df.Category.value_counts().sort_values(ascending=False).head()\n",
    "top_numbers"
   ]
  },
  {
   "cell_type": "code",
   "execution_count": null,
   "metadata": {},
   "outputs": [],
   "source": [
    "sns.barplot(x=top_numbers,color=\"blue\")"
   ]
  },
  {
   "cell_type": "markdown",
   "metadata": {},
   "source": [
    "**Ans 3:** Education, Music & Audio, Tools, Business and Entertainment have the most number of apps."
   ]
  },
  {
   "cell_type": "markdown",
   "metadata": {},
   "source": [
    "**Q4.** Which TOP 5 app categories have the most downloads?"
   ]
  },
  {
   "cell_type": "code",
   "execution_count": null,
   "metadata": {},
   "outputs": [],
   "source": [
    "top_downloads=df.groupby(\"Category\")[\"Maximum Installs\"].sum().sort_values(ascending=False).head()\n",
    "top_downloads"
   ]
  },
  {
   "cell_type": "code",
   "execution_count": null,
   "metadata": {},
   "outputs": [],
   "source": [
    "sns.barplot(x=top_downloads,color=\"blue\")"
   ]
  },
  {
   "cell_type": "markdown",
   "metadata": {},
   "source": [
    "**Ans 4:** Tools, Communication, Productivity, Photography, Video Players & Editors have the most number of downloads."
   ]
  },
  {
   "cell_type": "markdown",
   "metadata": {},
   "source": [
    "**Q5.** How does the price of an app (free vs. paid) affect its rating?"
   ]
  },
  {
   "cell_type": "code",
   "execution_count": null,
   "metadata": {},
   "outputs": [],
   "source": [
    "sns.barplot(data=df,x=\"Free\",y=\"Rating\",color=\"blue\")"
   ]
  },
  {
   "cell_type": "code",
   "execution_count": null,
   "metadata": {},
   "outputs": [],
   "source": [
    "sns.scatterplot(data=df,x=\"Rating\",y=\"Price\",hue=\"Free\")"
   ]
  },
  {
   "cell_type": "markdown",
   "metadata": {},
   "source": [
    "**Ans 5:** Rating of apps is independent of their price."
   ]
  },
  {
   "cell_type": "markdown",
   "metadata": {},
   "source": [
    "**Q6.** How does app size relate to installs?"
   ]
  },
  {
   "cell_type": "code",
   "execution_count": null,
   "metadata": {},
   "outputs": [],
   "source": [
    "sns.scatterplot(data=df,x=\"Maximum Installs\",y=\"size_in_MB\",color=\"blue\")"
   ]
  },
  {
   "cell_type": "markdown",
   "metadata": {},
   "source": [
    "**Ans 6:** Apps with less than 200 MBs gets more downloads"
   ]
  },
  {
   "cell_type": "markdown",
   "metadata": {},
   "source": [
    "**Q7.** Are Size and Rating dependent on each other? \n"
   ]
  },
  {
   "cell_type": "code",
   "execution_count": null,
   "metadata": {},
   "outputs": [],
   "source": [
    "sns.scatterplot(data=df,x=\"Rating\",y=\"size_in_MB\",color=\"blue\")"
   ]
  },
  {
   "cell_type": "markdown",
   "metadata": {},
   "source": [
    "**Ans 7:** Apps with high size and installs seems to have descent rating."
   ]
  },
  {
   "cell_type": "markdown",
   "metadata": {},
   "source": [
    "**Q8.** Does the content rating of an app (e.g., Everyone, Teen, Mature) influence its install base?"
   ]
  },
  {
   "cell_type": "code",
   "execution_count": null,
   "metadata": {},
   "outputs": [],
   "source": [
    "df.groupby(\"Content Rating\")[\"Maximum Installs\"].sum().sort_values(ascending=False)"
   ]
  },
  {
   "cell_type": "code",
   "execution_count": null,
   "metadata": {},
   "outputs": [],
   "source": [
    "df.groupby(\"Content Rating\")[\"Maximum Installs\"].sum().sort_values(ascending=False).plot(kind=\"barh\",color=\"blue\")"
   ]
  },
  {
   "cell_type": "markdown",
   "metadata": {},
   "source": [
    "**Ans 8:** Content Rating for everyone have highest installs after that category of teens is more powerfull in terms of insall base."
   ]
  },
  {
   "cell_type": "markdown",
   "metadata": {},
   "source": [
    "**Q9.** Which Year has the most number of apps released?"
   ]
  },
  {
   "cell_type": "code",
   "execution_count": null,
   "metadata": {},
   "outputs": [],
   "source": [
    "# generating new column of year from released date\n",
    "df['released_Year'] = pd.to_datetime(df['Released']).dt.year.sort_values(ascending=False)"
   ]
  },
  {
   "cell_type": "code",
   "execution_count": null,
   "metadata": {},
   "outputs": [],
   "source": [
    "df[\"released_Year\"].value_counts().sort_values(ascending=False)"
   ]
  },
  {
   "cell_type": "code",
   "execution_count": null,
   "metadata": {},
   "outputs": [],
   "source": [
    "# plot to show number of apps released, according to year\n",
    "df[\"released_Year\"].value_counts().sort_values(ascending=False).plot(kind=\"barh\",color=\"blue\")"
   ]
  },
  {
   "cell_type": "markdown",
   "metadata": {},
   "source": [
    "**Ans 9:** Till this data most number of apps released were in 2020."
   ]
  },
  {
   "cell_type": "markdown",
   "metadata": {},
   "source": [
    "**Q10.** Apps released in Which Year could the most number of app downloads?"
   ]
  },
  {
   "cell_type": "code",
   "execution_count": null,
   "metadata": {},
   "outputs": [],
   "source": [
    "ch=df.groupby(\"released_Year\")[\"Minimum Installs\"].sum().sort_values(ascending=False)\n",
    "ch"
   ]
  },
  {
   "cell_type": "code",
   "execution_count": null,
   "metadata": {},
   "outputs": [],
   "source": [
    "ch.plot(kind=\"barh\",color=\"blue\")"
   ]
  },
  {
   "cell_type": "markdown",
   "metadata": {},
   "source": [
    "**Ans 10:** Most downloads from playstore has been achieved by apps released in 2015."
   ]
  },
  {
   "cell_type": "markdown",
   "metadata": {},
   "source": [
    "**Q11:** Does app age influences it's downoads?"
   ]
  },
  {
   "cell_type": "code",
   "execution_count": null,
   "metadata": {},
   "outputs": [],
   "source": [
    "sns.scatterplot(df,x=\"age_in_month\",y=\"Maximum Installs\",color=\"blue\")"
   ]
  },
  {
   "cell_type": "code",
   "execution_count": null,
   "metadata": {},
   "outputs": [],
   "source": [
    "df[[\"age_in_month\",\"Maximum Installs\"]].corr()"
   ]
  },
  {
   "cell_type": "markdown",
   "metadata": {},
   "source": [
    "**Ans 11:** No, app age donot inflence it's downloads."
   ]
  },
  {
   "cell_type": "markdown",
   "metadata": {},
   "source": [
    "**Q12.** Show interdependency of all numerical features"
   ]
  },
  {
   "cell_type": "code",
   "execution_count": null,
   "metadata": {},
   "outputs": [],
   "source": [
    "sns.heatmap(df[[\"Rating\",\"Rating Count\",\"Minimum Installs\",\"Maximum Installs\",\"Price\",\"size_in_MB\",\"released_Year\"]].corr(),annot=True)"
   ]
  },
  {
   "cell_type": "markdown",
   "metadata": {},
   "source": [
    "**Ans 12:** As the value of \"Maximum Installs\" increases, the value of the \"Rating Count\" tends to increase as well, but not always by the same amount."
   ]
  },
  {
   "cell_type": "markdown",
   "metadata": {},
   "source": [
    "<!DOCTYPE html>\n",
    "<html>\n",
    "<head>\n",
    "    <style>\n",
    "        .chapter-heading {\n",
    "            background: linear-gradient(45deg, #333 25%, transparent 25%, transparent 75%, #333 75%, #333);\n",
    "            color: white;\n",
    "            padding: 10px;\n",
    "            border-radius: 5px;\n",
    "            box-shadow: 0 2px 4px rgba(0, 0, 0, 0.2);\n",
    "            text-align: center;\n",
    "            font-size: 18px;\n",
    "            font-weight: bold;\n",
    "            margin-bottom: 10px;\n",
    "        }\n",
    "    </style>\n",
    "</head>\n",
    "<body>\n",
    "    <div class=\"chapter-heading\">\n",
    "        <h1>7.0 Summary</h1>\n",
    "    </div>\n",
    "</body>\n",
    "</html>"
   ]
  },
  {
   "cell_type": "markdown",
   "metadata": {},
   "source": [
    "The EDA exercise conducted on the Google Play Store dataset has yielded numerous interesting insights. The dataset was found to be relatively clean and consistent throughout the analysis. We posed several questions to the dataset and provided detailed answers and findings as follows:\n",
    "\n",
    "**Q1.** Is there any correlations between rating and dowloads?\n",
    "\n",
    "**Ans 1:** Not seen any relationship in apps with less downloads, but it is seen that apps with more downloads have quite more rating.\n",
    "\n",
    "**Q2:** Is there any relationship between downloads and app type(free/paid)?\n",
    "\n",
    "**Ans 2:** Free apps generally have more downloads than that of paid ones\n",
    "\n",
    "**Q3.** Which TOP 5 app categories have the most number of apps?\n",
    "\n",
    "**Ans 3:** Education, Music & Audio, Tools, Business and Entertainment have the most number of apps.\n",
    "\n",
    "**Q4.** Which TOP 5 app categories have the most downloads?\n",
    "\n",
    "**Ans 4:** Tools, Communication, Productivity, Photography, Video Players & Editors have the most number of downloads.\n",
    "\n",
    "**Q5.** How does the price of an app (free vs. paid) affect its rating?\n",
    "\n",
    "**Ans 5:** Rating of apps is independent of their price.\n",
    "\n",
    "**Q6.** How does app size relate to installs?\n",
    "\n",
    "**Ans 6:** Apps with less than 200 MBs gets more downloads.\n",
    "\n",
    "**Q7.** Are Size and Rating dependent on each other? \n",
    "\n",
    "**Ans 7:** Apps with high size and installs seems to have descent rating.\n",
    "\n",
    "**Q8.** Does the content rating of an app (e.g., Everyone, Teen, Mature) influence its install base?\n",
    "\n",
    "**Ans 8:** Content Rating for everyone have highest installs after that category of teens is more powerfull in terms of insall base.\n",
    "\n",
    "**Q9.** Which Year has the most number of apps released?\n",
    "\n",
    "**Ans 9:** Till this data most number of apps released were in 2020.\n",
    "\n",
    "**Q10.** Apps released in Which Year could get the most number of app downloads?\n",
    "\n",
    "**Ans 10:** Most downloads from playstore has been achieved by apps released in 2015.\n",
    "\n",
    "**Q11:** Does app age influences it's downoads?\n",
    "\n",
    "**Ans 11:** No, app age donot inflence it's downloads.\n",
    "\n",
    "**Q12.** Show interdependency of all numerical features.\n",
    "\n",
    "**Ans 12:** As the value of \"Maximum Installs\" increases, the value of the \"Rating Count\" tends to increase as well, but not always by the same amount."
   ]
  },
  {
   "cell_type": "markdown",
   "metadata": {},
   "source": [
    "<!DOCTYPE html>\n",
    "<html>\n",
    "<head>\n",
    "    <style>\n",
    "        .chapter-heading {\n",
    "            background: linear-gradient(45deg, #333 25%, transparent 25%, transparent 75%, #333 75%, #333);\n",
    "            color: white;\n",
    "            padding: 10px;\n",
    "            border-radius: 5px;\n",
    "            box-shadow: 0 2px 4px rgba(0, 0, 0, 0.2);\n",
    "            text-align: center;\n",
    "            font-size: 18px;\n",
    "            font-weight: bold;\n",
    "            margin-bottom: 10px;\n",
    "        }\n",
    "    </style>\n",
    "</head>\n",
    "<body>\n",
    "    <div class=\"chapter-heading\">\n",
    "        <h1>08 Contact Details</h1>\n",
    "    </div>\n",
    "</body>\n",
    "</html>"
   ]
  },
  {
   "cell_type": "markdown",
   "metadata": {},
   "source": [
    "Click on link below to contact/follow/correct me:\n",
    "\n",
    " - **Email:** waqasliaqat630@gmailcom\n",
    "- [Linkedin](https://www.linkedin.com/in/muhammad-waqas-liaqat/)\n",
    "- [Github](https://github.com/waqas-liaqat)\n",
    "- [kaggle](https://www.kaggle.com/muhammadwaqas630)"
   ]
  }
 ],
 "metadata": {
  "kernelspec": {
   "display_name": "python_eda",
   "language": "python",
   "name": "python3"
  },
  "language_info": {
   "codemirror_mode": {
    "name": "ipython",
    "version": 3
   },
   "file_extension": ".py",
   "mimetype": "text/x-python",
   "name": "python",
   "nbconvert_exporter": "python",
   "pygments_lexer": "ipython3",
   "version": "3.11.7"
  }
 },
 "nbformat": 4,
 "nbformat_minor": 2
}
